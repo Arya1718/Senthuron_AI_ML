{
 "cells": [
  {
   "cell_type": "code",
   "execution_count": 57,
   "metadata": {},
   "outputs": [],
   "source": [
    "!pip install transformers keybert sentence-transformers --quiet"
   ]
  },
  {
   "cell_type": "code",
   "execution_count": 58,
   "metadata": {},
   "outputs": [],
   "source": [
    "from transformers import pipeline\n",
    "from keybert import KeyBERT\n",
    "import re\n"
   ]
  },
  {
   "cell_type": "code",
   "execution_count": 59,
   "metadata": {},
   "outputs": [],
   "source": [
    "def clean_text(text: str) -> str:\n",
    "    text = re.sub(r'\\s+', ' ', text).strip()\n",
    "    return text\n"
   ]
  },
  {
   "cell_type": "code",
   "execution_count": 60,
   "metadata": {},
   "outputs": [],
   "source": [
    "def summarize_text(text: str) -> str:\n",
    "    \"\"\"\n",
    "    Summarize input text into exactly 3 bullet points.\n",
    "    If fewer than 3 points are generated, reuse earlier ones for padding.\n",
    "    \"\"\"\n",
    "    import re\n",
    "\n",
    "    text = clean_text(text)\n",
    "    word_count = len(text.split())\n",
    "\n",
    "    if word_count < 30:\n",
    "        return \"Please provide a longer paragraph (minimum 30 words) for an effective summary.\"\n",
    "\n",
    "    try:\n",
    "        max_len = max(40, min(130, int(word_count * 0.6)))\n",
    "        min_len = max(20, min(30, int(word_count * 0.3)))\n",
    "        if min_len >= max_len:\n",
    "            min_len = max_len - 5\n",
    "\n",
    "        summarizer = pipeline(\"summarization\", model=\"sshleifer/distilbart-cnn-12-6\", device=-1)\n",
    "        summary = summarizer(text, max_length=max_len, min_length=min_len, do_sample=False)\n",
    "        result = summary[0]['summary_text']\n",
    "\n",
    "        # Split into sentences\n",
    "        sentences = re.split(r'(?<=[.!?])\\s+', result)\n",
    "        sentences = [s.strip() for s in sentences if s.strip()]\n",
    "\n",
    "        # Pad with repeated sentences if fewer than 3\n",
    "        while len(sentences) < 3:\n",
    "            sentences.append(sentences[len(sentences) % len(sentences)])  # repeat from start\n",
    "\n",
    "        # Format as bullet points\n",
    "        bullet_points = [f\"• {sentence}\" for sentence in sentences[:3]]\n",
    "        return \"\\n\".join(bullet_points)\n",
    "\n",
    "    except Exception as e:\n",
    "        return f\"An error occurred while summarizing: {str(e)}\"\n"
   ]
  },
  {
   "cell_type": "code",
   "execution_count": 61,
   "metadata": {},
   "outputs": [],
   "source": [
    "def extract_keywords(text: str, top_n: int = 5) -> list:\n",
    "    text = clean_text(text)\n",
    "    if not text or len(text.split()) < 10:\n",
    "        return [\"Please provide a longer input (minimum 10 words) to extract meaningful keywords.\"]\n",
    "\n",
    "    try:\n",
    "        kw_model = KeyBERT()\n",
    "        keywords = kw_model.extract_keywords(text, top_n=top_n)\n",
    "        return [kw for kw, _ in keywords]\n",
    "    except Exception as e:\n",
    "        return [f\"An error occurred while extracting keywords: {str(e)}\"]\n"
   ]
  },
  {
   "cell_type": "code",
   "execution_count": 62,
   "metadata": {},
   "outputs": [],
   "source": [
    "sample_text = \"\"\"\n",
    "Artificial Intelligence (AI) is reshaping modern enterprises by automating routine workflows,\n",
    "extracting deep insights from big data, and personalizing customer interactions. In education,\n",
    "AI helps tailor content delivery to individual learning styles. At Senthuron, tools like these\n",
    "can streamline client deliverables, enhance internal decision-making, and power new digital\n",
    "experiences.\n",
    "\"\"\"\n"
   ]
  },
  {
   "cell_type": "code",
   "execution_count": 63,
   "metadata": {},
   "outputs": [
    {
     "name": "stdout",
     "output_type": "stream",
     "text": [
      "3-Line Summary:\n",
      "\n"
     ]
    },
    {
     "name": "stderr",
     "output_type": "stream",
     "text": [
      "Device set to use cpu\n"
     ]
    },
    {
     "name": "stdout",
     "output_type": "stream",
     "text": [
      "• Artificial Intelligence (AI) is reshaping modern enterprises by automating routine workflows and extracting deep insights from big data .\n",
      "• In education, AI helps tailor content delivery to individual learning styles .\n",
      "• Artificial Intelligence (AI) is reshaping modern enterprises by automating routine workflows and extracting deep insights from big data .\n",
      "\n",
      "Top 5 Keywords:\n",
      "\n",
      "1. ai\n",
      "2. intelligence\n",
      "3. learning\n",
      "4. automating\n",
      "5. education\n"
     ]
    }
   ],
   "source": [
    "# Summarize\n",
    "print(\"3-Line Summary:\\n\")\n",
    "print(summarize_text(sample_text))\n",
    "\n",
    "# Extract Keywords\n",
    "print(\"\\nTop 5 Keywords:\\n\")\n",
    "for i, kw in enumerate(extract_keywords(sample_text), 1):\n",
    "    print(f\"{i}. {kw}\")\n"
   ]
  }
 ],
 "metadata": {
  "kernelspec": {
   "display_name": "Python 3",
   "language": "python",
   "name": "python3"
  },
  "language_info": {
   "codemirror_mode": {
    "name": "ipython",
    "version": 3
   },
   "file_extension": ".py",
   "mimetype": "text/x-python",
   "name": "python",
   "nbconvert_exporter": "python",
   "pygments_lexer": "ipython3",
   "version": "3.11.4"
  }
 },
 "nbformat": 4,
 "nbformat_minor": 2
}
